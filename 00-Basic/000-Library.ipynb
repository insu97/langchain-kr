{
 "cells": [
  {
   "cell_type": "code",
   "execution_count": null,
   "id": "414b9692",
   "metadata": {},
   "outputs": [],
   "source": [
    "# LangChain 업데이트\n",
    "\n",
    "# !pip install -r https://raw.githubusercontent.com/teddylee777/langchain-kr/main/requirements.txt\n",
    "# !pip install langchain-upstage\n",
    "# !pip install -qU langchain-teddynote"
   ]
  },
  {
   "cell_type": "code",
   "execution_count": null,
   "id": "7b6794fb",
   "metadata": {},
   "outputs": [],
   "source": [
    "# Others\n",
    "\n",
    "## jupyter notebook html 로 받기 위한 설치\n",
    "\n",
    "# !pip install notebook==6.5.4 \n",
    "# !pip install pandoc\n",
    "# https://github.com/jgm/pandoc/releases/tag/3.7.0.2 여기서 설치"
   ]
  }
 ],
 "metadata": {
  "language_info": {
   "name": "python"
  }
 },
 "nbformat": 4,
 "nbformat_minor": 5
}
