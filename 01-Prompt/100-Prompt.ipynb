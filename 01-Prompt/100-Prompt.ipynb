{
 "cells": [
  {
   "cell_type": "code",
   "execution_count": null,
   "id": "b5ce680e",
   "metadata": {},
   "outputs": [
    {
     "data": {
      "text/plain": [
       "True"
      ]
     },
     "execution_count": 1,
     "metadata": {},
     "output_type": "execute_result"
    }
   ],
   "source": [
    "from dotenv import load_dotenv\n",
    "\n",
    "load_dotenv()"
   ]
  },
  {
   "cell_type": "code",
   "execution_count": 3,
   "id": "e2f24e9b",
   "metadata": {},
   "outputs": [
    {
     "name": "stdout",
     "output_type": "stream",
     "text": [
      "LangSmith 추적을 시작합니다.\n",
      "[프로젝트명]\n",
      "Prompt\n"
     ]
    }
   ],
   "source": [
    "from langchain_teddynote import logging\n",
    "\n",
    "# 프로젝트 이름을 입력합니다.\n",
    "logging.langsmith(\"Prompt\")"
   ]
  },
  {
   "cell_type": "code",
   "execution_count": 4,
   "id": "23aeca20",
   "metadata": {},
   "outputs": [],
   "source": [
    "from langchain_openai import ChatOpenAI\n",
    "\n",
    "llm = ChatOpenAI()"
   ]
  },
  {
   "cell_type": "markdown",
   "id": "c68211b9",
   "metadata": {},
   "source": [
    "# PromptTemplate"
   ]
  },
  {
   "cell_type": "code",
   "execution_count": 6,
   "id": "4849d424",
   "metadata": {},
   "outputs": [],
   "source": [
    "from langchain_core.prompts import PromptTemplate"
   ]
  },
  {
   "cell_type": "markdown",
   "id": "e6763a8a",
   "metadata": {},
   "source": [
    "## from_template"
   ]
  },
  {
   "cell_type": "code",
   "execution_count": 7,
   "id": "33e2553b",
   "metadata": {},
   "outputs": [],
   "source": [
    "# template 정의\n",
    "template = \"{country}의 수도는 어디인가요?\"\n",
    "\n",
    "# from_template 메소드를 이용하여 PromptTemplate 객체 생성\n",
    "prompt = PromptTemplate.from_template(template)\n",
    "\n",
    "# chain 생성\n",
    "chain = prompt | llm"
   ]
  },
  {
   "cell_type": "code",
   "execution_count": 9,
   "id": "83ccec46",
   "metadata": {},
   "outputs": [
    {
     "data": {
      "text/plain": [
       "'서울입니다.'"
      ]
     },
     "execution_count": 9,
     "metadata": {},
     "output_type": "execute_result"
    }
   ],
   "source": [
    "chain.invoke(\"대한민국\").content"
   ]
  },
  {
   "cell_type": "markdown",
   "id": "f2747241",
   "metadata": {},
   "source": [
    "## PromptTemplate 객체 생성과 동시에 prompt 생성"
   ]
  },
  {
   "cell_type": "code",
   "execution_count": null,
   "id": "5af91fc6",
   "metadata": {},
   "outputs": [],
   "source": [
    "# template 정의\n",
    "template = \"{country1}과 {country2}의 수도는 각각 어디인가요?\"\n",
    "\n",
    "# PromptTemplate 객체를 활용하여 prompt_template 생성\n",
    "prompt = PromptTemplate(\n",
    "    template=template,\n",
    "    input_variables=[\"country1\"],\n",
    "    partial_variables={    # 프롬프트 템플릿의 일부 변수를 미리 설정할 때 사용합니다.\n",
    "        \"country2\": \"미국\"  # dictionary 형태로 partial_variables를 전달\n",
    "    },\n",
    ")\n",
    "\n",
    "chain = prompt | llm"
   ]
  },
  {
   "cell_type": "code",
   "execution_count": 11,
   "id": "80219fd9",
   "metadata": {},
   "outputs": [
    {
     "data": {
      "text/plain": [
       "'대한민국의 수도는 서울이고 호주의 수도는 캔버라입니다.'"
      ]
     },
     "execution_count": 11,
     "metadata": {},
     "output_type": "execute_result"
    }
   ],
   "source": [
    "chain.invoke({\"country1\": \"대한민국\", \"country2\": \"호주\"}).content"
   ]
  },
  {
   "cell_type": "markdown",
   "id": "2671813c",
   "metadata": {},
   "source": [
    "### partial_variables"
   ]
  },
  {
   "cell_type": "code",
   "execution_count": 12,
   "id": "1c826ef3",
   "metadata": {},
   "outputs": [],
   "source": [
    "from datetime import datetime\n",
    "\n",
    "# 현재 날짜를 항상 포함하는 함수\n",
    "def get_current_date():\n",
    "    return datetime.now().strftime(\"%Y-%m-%d\")\n",
    "\n",
    "prompt = PromptTemplate(\n",
    "    input_variables=[\"topic\"],\n",
    "    partial_variables={\"date\": get_current_date},\n",
    "    template=\"오늘 날짜는 {date}입니다. {topic}에 대해 작성하세요.\"\n",
    ")\n",
    "\n",
    "chain = prompt | llm"
   ]
  },
  {
   "cell_type": "code",
   "execution_count": 15,
   "id": "cfc168c0",
   "metadata": {},
   "outputs": [
    {
     "data": {
      "text/plain": [
       "'RAG 검색증강(RAG Search Augmentation)은 혁신적인 정보 검색 기술로, 사용자들이 보다 효과적으로 원하는 정보를 얻을 수 있도록 돕습니다. 이 기술은 주어진 검색어 또는 쿼리에 대해 상호작용형으로 작동하여 사용자의 의도를 파악하고, 사용자와의 대화를 통해 더 깊이 있는 검색 경험을 제공합니다.\\n\\nRAG 검색증강은 자연어 처리 기술과 기계학습 알고리즘을 활용하여, 검색 결과를 보다 정확하고 개인화된 형태로 제공합니다. 또한 사용자가 지식을 확장하고 심층적인 질문에 대답할 수 있도록 도움을 줍니다. 이를 통해 사용자는 보다 쉽게 원하는 정보를 얻을 수 있으며, 정보를 더 신속하게 이해할 수 있습니다.\\n\\nRAG 검색증강은 현재 정보 검색 분야에서 많은 관심을 받고 있는 기술 중 하나이며, 사용자 경험을 혁신적으로 개선하는 데 기여하고 있습니다. 추가적인 연구와 기술 발전을 통해 RAG 검색증강 기술은 더욱 발전하고 다양한 분야에 적용될 것으로 기대됩니다.'"
      ]
     },
     "execution_count": 15,
     "metadata": {},
     "output_type": "execute_result"
    }
   ],
   "source": [
    "chain.invoke({\"date\": get_current_date(), \"topic\": \"RAG 검색증강\"}).content"
   ]
  }
 ],
 "metadata": {
  "kernelspec": {
   "display_name": "myvenv",
   "language": "python",
   "name": "python3"
  },
  "language_info": {
   "codemirror_mode": {
    "name": "ipython",
    "version": 3
   },
   "file_extension": ".py",
   "mimetype": "text/x-python",
   "name": "python",
   "nbconvert_exporter": "python",
   "pygments_lexer": "ipython3",
   "version": "3.10.6"
  }
 },
 "nbformat": 4,
 "nbformat_minor": 5
}
